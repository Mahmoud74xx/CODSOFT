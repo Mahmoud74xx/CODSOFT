{
  "cells": [
    {
      "cell_type": "markdown",
      "metadata": {
        "id": "view-in-github",
        "colab_type": "text"
      },
      "source": [
        "<a href=\"https://colab.research.google.com/github/Mahmoud74xx/CODSOFT/blob/main/CHATBOT_Memo_(pattern_matching_techniques).ipynb\" target=\"_parent\"><img src=\"https://colab.research.google.com/assets/colab-badge.svg\" alt=\"Open In Colab\"/></a>"
      ]
    },
    {
      "cell_type": "code",
      "execution_count": null,
      "metadata": {
        "id": "C6hV-ueIZArC"
      },
      "outputs": [],
      "source": [
        "import re\n",
        "import random\n",
        "# patterns to responses\n",
        "responses = {\n",
        "    r'\\b(hello|hi)\\b': [\"Hello! How can I help you?\", \"Hi there! What can I do for you?\"],\n",
        "    r'\\b(how are you|how are you doing)\\b': [\"I'm just a bot, but I'm here to assist you!\", \"I'm good, thank you. How can I help?\"],\n",
        "    r'\\b(goodbye|bye)\\b': [\"Goodbye! Have a great day!\", \"Bye! Come back soon.\"],\n",
        "    r'\\b(thanks|thank you)\\b': [\"You're welcome!\", \"Glad to help!\"],\n",
        "    r'\\b(weather)\\b': [\"The weather looks good today.\", \"I'm still in the development stage now, You can check the weather online.\"],\n",
        "    r'\\b(time)\\b': [ \"I'm still in the development stage now,But You can check the time on your device.\"],\n",
        "    r'\\b(age|old )\\b': [\"I'm a computer program, so I don't have an age.\", \"I came into existence recently!\"],\n",
        "    r'\\b(name)\\b': [\"I'm a chatbot! You can call me Memo.\", \"I'm your friendly chatbot Memo here to assist you!\"],\n",
        "    r'\\b(how can I help you)\\b': [\"You can ask me anything or tell me what you need assistance with.\"],\n",
        "    r'\\b(jokes|joke)\\b': [\"Why couldn't the bicycle stand up by itself? Because it was two-tired!\", \"I'm reading a book on anti-gravity. It's impossible to put down!\"],\n",
        "    r'\\b(what is your purpose)\\b': [\"I'm here to assist and answer your questions to the best of my ability.\"],\n",
        "    r'\\b(how do you work)\\b': [\"I analyze text and respond based on predefined patterns and responses.\"],\n",
        "    r'\\b(who created you)\\b': [\"I was created by a developer Name Mahmoud Adel.\"],\n",
        "    r'\\b(love)\\b': [\"I'm a chatbot, but I can certainly help with advice or information about love.\"],\n",
        "    r'\\b(favorite color)\\b': [\"I don't have eyes, so I don't have a favorite color!\"],\n",
        "    r'\\b(who are you)\\b': [\"I'm Memo a chatbot designed to assist and provide information.\"],\n",
        "    r'\\b(what can you do)\\b': [\"I can answer questions, tell jokes, or provide information on various topics.\"],\n",
        "    r'\\b(technology)\\b': [\"Technology is advancing rapidly and impacting every aspect of our lives.\"],\n",
        "    r'\\b(gaming|game)\\b': [\"Gaming is a popular form of entertainment enjoyed by many people but if like gaming don't play League of Legends .\"],\n",
        "    r'\\b(books|book)\\b': [\"Books are a great source of knowledge and entertainment.\"],\n",
        "    r'\\b(egypt|egyptian)\\b': [\"Egypt is an amazing country with a rich history and beautiful landmarks like the pyramids and the Nile River.\" ],\n",
        "    r'\\b(mahmoud adel)\\b': [\"Mahmoud Adel is an Ai developer. He is Egyptian, 22 years old, and a graduated from Modern University for Technology and Information.\"],\n",
        "}\n"
      ]
    },
    {
      "cell_type": "code",
      "execution_count": null,
      "metadata": {
        "id": "f5JTPWEXaLwb"
      },
      "outputs": [],
      "source": [
        "def chatbot_response(user_input):\n",
        "    user_input = user_input.lower()\n",
        "    response = \"I'm sorry, I didn't understand . Can you please rephrase or ask something else?\"\n",
        "\n",
        "    for pattern, replies in responses.items():\n",
        "        if re.search(pattern, user_input):\n",
        "            response = replies[random.randint(0, len(replies) - 1)]\n",
        "            break\n",
        "\n",
        "    return response\n"
      ]
    },
    {
      "cell_type": "code",
      "execution_count": null,
      "metadata": {
        "colab": {
          "base_uri": "https://localhost:8080/"
        },
        "id": "s0Utg3m_MHKh",
        "outputId": "c0e69ae4-7cb5-400f-f55f-1602904381cb"
      },
      "outputs": [
        {
          "output_type": "stream",
          "name": "stdout",
          "text": [
            "Chatbot(Memo): Hello! How can I assist you today?\n",
            "You: hello\n",
            "Memo: Hi there! What can I do for you?\n",
            "You: how are you\n",
            "Memo: I'm good, thank you. How can I help?\n",
            "You: what is your name\n",
            "Memo: I'm a chatbot! You can call me Memo.\n",
            "You: what can you do\n",
            "Memo: I can answer questions, tell jokes, or provide information on various topics.\n",
            "You: what is the time now\n",
            "Memo: I'm still in the development stage now,But You can check the time on your device.\n",
            "You: who created you\n",
            "Memo: I was created by a developer Name Mahmoud Adel.\n",
            "You: who is mahhmoud adel\n",
            "Memo: I'm sorry, I didn't understand . Can you please rephrase or ask something else?\n",
            "You: who is mahmoud adel\n",
            "Memo: Mahmoud Adel is an Ai developer. He is Egyptian, 22 years old, and a graduated from Modern University for Technology and Information.\n",
            "You: bye\n",
            "Memo: Bye! Come back soon.\n"
          ]
        }
      ],
      "source": [
        "\n",
        "# Example\n",
        "print(\"Chatbot(Memo): Hello! How can I assist you today?\")\n",
        "while True:\n",
        "    user_input = input(\"You: \")\n",
        "    response = chatbot_response(user_input)\n",
        "    print(\"Memo:\", response)\n",
        "    if re.search(r'\\b(goodbye|bye)\\b', user_input):\n",
        "        break\n"
      ]
    }
  ],
  "metadata": {
    "colab": {
      "provenance": [],
      "authorship_tag": "ABX9TyPdgZibHWJyVRQJUTSr3aiJ",
      "include_colab_link": true
    },
    "kernelspec": {
      "display_name": "Python 3",
      "name": "python3"
    },
    "language_info": {
      "name": "python"
    }
  },
  "nbformat": 4,
  "nbformat_minor": 0
}