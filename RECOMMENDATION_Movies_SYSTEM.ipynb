{
  "cells": [
    {
      "cell_type": "markdown",
      "metadata": {
        "id": "view-in-github",
        "colab_type": "text"
      },
      "source": [
        "<a href=\"https://colab.research.google.com/github/Mahmoud74xx/CODSOFT/blob/main/RECOMMENDATION_Movies_SYSTEM.ipynb\" target=\"_parent\"><img src=\"https://colab.research.google.com/assets/colab-badge.svg\" alt=\"Open In Colab\"/></a>"
      ]
    },
    {
      "cell_type": "code",
      "execution_count": 1,
      "metadata": {
        "colab": {
          "base_uri": "https://localhost:8080/"
        },
        "id": "ise3UlLTLWjq",
        "outputId": "c7a272b8-53dd-4c23-9143-da019c2edc2f"
      },
      "outputs": [
        {
          "output_type": "stream",
          "name": "stdout",
          "text": [
            "Enter a movie title (or type 'exit' to quit): Superman Returns (2006)\n",
            "Recommended Movies:\n",
            "2555                       Superman (1978)\n",
            "2557                   Superman III (1983)\n",
            "16689             All-Star Superman (2011)\n",
            "2556                    Superman II (1980)\n",
            "9213     Batman/Superman Movie, The (1998)\n",
            "Name: title, dtype: object\n",
            "Enter a movie title (or type 'exit' to quit): Toy Story (1995)\n",
            "Recommended Movies:\n",
            "3027                    Toy Story 2 (1999)\n",
            "15401                   Toy Story 3 (2010)\n",
            "21981           Toy Story of Terror (2013)\n",
            "25463    Toy Story That Time Forgot (2014)\n",
            "24460    Toy Story Toons: Small Fry (2011)\n",
            "Name: title, dtype: object\n",
            "Enter a movie title (or type 'exit' to quit): Rocky (1976)\n",
            "Recommended Movies:\n",
            "2327       Rocky V (1990)\n",
            "2324      Rocky II (1979)\n",
            "2325     Rocky III (1982)\n",
            "2326      Rocky IV (1985)\n",
            "7222    Front, The (1976)\n",
            "Name: title, dtype: object\n",
            "Enter a movie title (or type 'exit' to quit): Spider-Man (2002)\n",
            "Recommended Movies:\n",
            "11826                Spider-Man 3 (2007)\n",
            "7953                 Spider-Man 2 (2004)\n",
            "19204     Amazing Spider-Man, The (2012)\n",
            "6098                       Spider (2002)\n",
            "23215    The Amazing Spider-Man 2 (2014)\n",
            "Name: title, dtype: object\n",
            "Enter a movie title (or type 'exit' to quit): exit\n",
            "Exiting the recommendation system. Goodbye!\n"
          ]
        }
      ],
      "source": [
        "import pandas as pd\n",
        "from sklearn.feature_extraction.text import TfidfVectorizer\n",
        "from sklearn.metrics.pairwise import linear_kernel\n",
        "\n",
        "# Load movies data\n",
        "movies = pd.read_csv('/content/movie.csv')\n",
        "\n",
        "# Preprocessing and feature extraction\n",
        "movies['genres'] = movies['genres'].fillna('')\n",
        "movies['description'] = movies['title'] + ' ' + movies['genres']\n",
        "\n",
        "# TF-IDF Vectorization on movie descriptions (title + genres)\n",
        "tfidf = TfidfVectorizer(stop_words='english')\n",
        "tfidf_matrix = tfidf.fit_transform(movies['description'])\n",
        "\n",
        "# Compute the cosine similarity matrix\n",
        "cosine_sim = linear_kernel(tfidf_matrix, tfidf_matrix)\n",
        "\n",
        "# Function to recommend movies based on user input\n",
        "def recommend_movies(input_title, cosine_sim=cosine_sim, movies=movies):\n",
        "    try:\n",
        "        idx = movies[movies['title'].str.lower() == input_title.lower()].index[0]\n",
        "        sim_scores = list(enumerate(cosine_sim[idx]))\n",
        "        sim_scores = sorted(sim_scores, key=lambda x: x[1], reverse=True)\n",
        "        sim_scores = sim_scores[1:6]  # Get top 5 similar movies\n",
        "\n",
        "        movie_indices = [i[0] for i in sim_scores]\n",
        "\n",
        "        return movies['title'].iloc[movie_indices]\n",
        "    except IndexError:\n",
        "        return \"Movie not found or insufficient data for recommendations.\"\n",
        "\n",
        "# Continuous loop for user input\n",
        "while True:\n",
        "    user_movie = input(\"Enter a movie title (or type 'exit' to quit): \")\n",
        "    if user_movie.lower() == 'exit':\n",
        "        print(\"Exiting the recommendation system. Goodbye!\")\n",
        "        break\n",
        "\n",
        "    recommended_movies = recommend_movies(user_movie, cosine_sim, movies)\n",
        "    print(\"Recommended Movies:\")\n",
        "    print(recommended_movies)\n",
        "\n"
      ]
    }
  ],
  "metadata": {
    "accelerator": "GPU",
    "colab": {
      "provenance": [],
      "authorship_tag": "ABX9TyPlFSec5Cc5wYy1cdt8mN38",
      "include_colab_link": true
    },
    "kernelspec": {
      "display_name": "Python 3",
      "name": "python3"
    },
    "language_info": {
      "name": "python"
    }
  },
  "nbformat": 4,
  "nbformat_minor": 0
}